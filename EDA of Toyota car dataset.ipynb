{
 "cells": [
  {
   "cell_type": "markdown",
   "id": "d21b09f0",
   "metadata": {},
   "source": [
    "# Toyota car dataset analysis"
   ]
  },
  {
   "cell_type": "markdown",
   "id": "596997a2",
   "metadata": {},
   "source": [
    "Written By: Atia Shahnaz Ipa <br><a href=\"https://www.linkedin.com/in/atia-shahnaz-ipa/\">LinkedIn</a>"
   ]
  },
  {
   "cell_type": "markdown",
   "id": "53d71205",
   "metadata": {},
   "source": [
    "### Target \n",
    "<br>A. What are the top 5 selling car models/transmission/fuelType in the dataset?\n",
    "<br>B. What's the average selling price of the top 5 selling car models/transmission/fuelType?\n",
    "<br>C. What's the total sale of the top 5 selling car models/transmission/fuelType?"
   ]
  },
  {
   "cell_type": "markdown",
   "id": "1fe79d15",
   "metadata": {},
   "source": [
    "Reference:\n",
    "<br>Data Source:https://www.kaggle.com/aishwaryamuthukumar/cars-dataset-audi-bmw-ford-hyundai-skoda-vw"
   ]
  },
  {
   "cell_type": "markdown",
   "id": "194f3eb6",
   "metadata": {},
   "source": [
    "### Importing libraries"
   ]
  },
  {
   "cell_type": "code",
   "execution_count": 140,
   "id": "3ed9a02a",
   "metadata": {},
   "outputs": [],
   "source": [
    "import numpy as np\n",
    "import pandas as pd\n",
    "\n",
    "import matplotlib.pyplot as plt\n",
    "import seaborn as sns\n",
    "\n",
    "sns.set_context('talk')"
   ]
  },
  {
   "cell_type": "markdown",
   "id": "9d7ca60f",
   "metadata": {},
   "source": [
    "### Reading CSV file and displaying random 10 row"
   ]
  },
  {
   "cell_type": "code",
   "execution_count": 141,
   "id": "63cf3b9c",
   "metadata": {},
   "outputs": [
    {
     "data": {
      "text/html": [
       "<div>\n",
       "<style scoped>\n",
       "    .dataframe tbody tr th:only-of-type {\n",
       "        vertical-align: middle;\n",
       "    }\n",
       "\n",
       "    .dataframe tbody tr th {\n",
       "        vertical-align: top;\n",
       "    }\n",
       "\n",
       "    .dataframe thead th {\n",
       "        text-align: right;\n",
       "    }\n",
       "</style>\n",
       "<table border=\"1\" class=\"dataframe\">\n",
       "  <thead>\n",
       "    <tr style=\"text-align: right;\">\n",
       "      <th></th>\n",
       "      <th>model</th>\n",
       "      <th>year</th>\n",
       "      <th>price</th>\n",
       "      <th>transmission</th>\n",
       "      <th>mileage</th>\n",
       "      <th>fuelType</th>\n",
       "      <th>mpg</th>\n",
       "      <th>engineSize</th>\n",
       "    </tr>\n",
       "  </thead>\n",
       "  <tbody>\n",
       "    <tr>\n",
       "      <th>3024</th>\n",
       "      <td>Auris</td>\n",
       "      <td>2016</td>\n",
       "      <td>8498</td>\n",
       "      <td>Manual</td>\n",
       "      <td>45495</td>\n",
       "      <td>Diesel</td>\n",
       "      <td>65.7</td>\n",
       "      <td>1.6</td>\n",
       "    </tr>\n",
       "    <tr>\n",
       "      <th>4848</th>\n",
       "      <td>Aygo</td>\n",
       "      <td>2018</td>\n",
       "      <td>8250</td>\n",
       "      <td>Manual</td>\n",
       "      <td>8960</td>\n",
       "      <td>Petrol</td>\n",
       "      <td>68.9</td>\n",
       "      <td>1.0</td>\n",
       "    </tr>\n",
       "    <tr>\n",
       "      <th>5296</th>\n",
       "      <td>Aygo</td>\n",
       "      <td>2017</td>\n",
       "      <td>8500</td>\n",
       "      <td>Manual</td>\n",
       "      <td>8877</td>\n",
       "      <td>Petrol</td>\n",
       "      <td>68.9</td>\n",
       "      <td>1.0</td>\n",
       "    </tr>\n",
       "    <tr>\n",
       "      <th>1733</th>\n",
       "      <td>Yaris</td>\n",
       "      <td>2019</td>\n",
       "      <td>11280</td>\n",
       "      <td>Manual</td>\n",
       "      <td>6065</td>\n",
       "      <td>Petrol</td>\n",
       "      <td>47.9</td>\n",
       "      <td>1.5</td>\n",
       "    </tr>\n",
       "    <tr>\n",
       "      <th>5560</th>\n",
       "      <td>Aygo</td>\n",
       "      <td>2019</td>\n",
       "      <td>10750</td>\n",
       "      <td>Manual</td>\n",
       "      <td>32</td>\n",
       "      <td>Petrol</td>\n",
       "      <td>57.7</td>\n",
       "      <td>1.0</td>\n",
       "    </tr>\n",
       "    <tr>\n",
       "      <th>2498</th>\n",
       "      <td>Yaris</td>\n",
       "      <td>2016</td>\n",
       "      <td>10690</td>\n",
       "      <td>Automatic</td>\n",
       "      <td>41965</td>\n",
       "      <td>Hybrid</td>\n",
       "      <td>86.0</td>\n",
       "      <td>1.5</td>\n",
       "    </tr>\n",
       "    <tr>\n",
       "      <th>6095</th>\n",
       "      <td>Prius</td>\n",
       "      <td>2016</td>\n",
       "      <td>18570</td>\n",
       "      <td>Automatic</td>\n",
       "      <td>29234</td>\n",
       "      <td>Hybrid</td>\n",
       "      <td>85.6</td>\n",
       "      <td>1.8</td>\n",
       "    </tr>\n",
       "    <tr>\n",
       "      <th>4945</th>\n",
       "      <td>Aygo</td>\n",
       "      <td>2018</td>\n",
       "      <td>9495</td>\n",
       "      <td>Semi-Auto</td>\n",
       "      <td>24007</td>\n",
       "      <td>Petrol</td>\n",
       "      <td>67.3</td>\n",
       "      <td>1.0</td>\n",
       "    </tr>\n",
       "    <tr>\n",
       "      <th>6439</th>\n",
       "      <td>Verso</td>\n",
       "      <td>2017</td>\n",
       "      <td>12998</td>\n",
       "      <td>Manual</td>\n",
       "      <td>15558</td>\n",
       "      <td>Petrol</td>\n",
       "      <td>41.5</td>\n",
       "      <td>1.6</td>\n",
       "    </tr>\n",
       "    <tr>\n",
       "      <th>2614</th>\n",
       "      <td>Yaris</td>\n",
       "      <td>2017</td>\n",
       "      <td>12699</td>\n",
       "      <td>Automatic</td>\n",
       "      <td>19088</td>\n",
       "      <td>Hybrid</td>\n",
       "      <td>76.3</td>\n",
       "      <td>1.5</td>\n",
       "    </tr>\n",
       "  </tbody>\n",
       "</table>\n",
       "</div>"
      ],
      "text/plain": [
       "       model  year  price transmission  mileage fuelType   mpg  engineSize\n",
       "3024   Auris  2016   8498       Manual    45495   Diesel  65.7         1.6\n",
       "4848    Aygo  2018   8250       Manual     8960   Petrol  68.9         1.0\n",
       "5296    Aygo  2017   8500       Manual     8877   Petrol  68.9         1.0\n",
       "1733   Yaris  2019  11280       Manual     6065   Petrol  47.9         1.5\n",
       "5560    Aygo  2019  10750       Manual       32   Petrol  57.7         1.0\n",
       "2498   Yaris  2016  10690    Automatic    41965   Hybrid  86.0         1.5\n",
       "6095   Prius  2016  18570    Automatic    29234   Hybrid  85.6         1.8\n",
       "4945    Aygo  2018   9495    Semi-Auto    24007   Petrol  67.3         1.0\n",
       "6439   Verso  2017  12998       Manual    15558   Petrol  41.5         1.6\n",
       "2614   Yaris  2017  12699    Automatic    19088   Hybrid  76.3         1.5"
      ]
     },
     "metadata": {},
     "output_type": "display_data"
    }
   ],
   "source": [
    "df = pd.read_csv(\"toyota.csv\")\n",
    "\n",
    "display(df.sample(10))"
   ]
  },
  {
   "cell_type": "markdown",
   "id": "0c4be2ae",
   "metadata": {},
   "source": [
    "### Checking info"
   ]
  },
  {
   "cell_type": "code",
   "execution_count": 142,
   "id": "01f00ab0",
   "metadata": {},
   "outputs": [
    {
     "name": "stdout",
     "output_type": "stream",
     "text": [
      "<class 'pandas.core.frame.DataFrame'>\n",
      "RangeIndex: 6738 entries, 0 to 6737\n",
      "Data columns (total 8 columns):\n",
      " #   Column        Non-Null Count  Dtype  \n",
      "---  ------        --------------  -----  \n",
      " 0   model         6738 non-null   object \n",
      " 1   year          6738 non-null   int64  \n",
      " 2   price         6738 non-null   int64  \n",
      " 3   transmission  6738 non-null   object \n",
      " 4   mileage       6738 non-null   int64  \n",
      " 5   fuelType      6738 non-null   object \n",
      " 6   mpg           6738 non-null   float64\n",
      " 7   engineSize    6738 non-null   float64\n",
      "dtypes: float64(2), int64(3), object(3)\n",
      "memory usage: 342.2+ KB\n",
      "None\n"
     ]
    }
   ],
   "source": [
    "print(df.info())"
   ]
  },
  {
   "cell_type": "code",
   "execution_count": 143,
   "id": "957ffd47",
   "metadata": {},
   "outputs": [
    {
     "name": "stdout",
     "output_type": "stream",
     "text": [
      "              year         price        mileage          mpg   engineSize\n",
      "count  6738.000000   6738.000000    6738.000000  6738.000000  6738.000000\n",
      "mean   2016.748145  12522.391066   22857.413921    63.042223     1.471297\n",
      "std       2.204062   6345.017587   19125.464147    15.836710     0.436159\n",
      "min    1998.000000    850.000000       2.000000     2.800000     0.000000\n",
      "25%    2016.000000   8290.000000    9446.000000    55.400000     1.000000\n",
      "50%    2017.000000  10795.000000   18513.000000    62.800000     1.500000\n",
      "75%    2018.000000  14995.000000   31063.750000    69.000000     1.800000\n",
      "max    2020.000000  59995.000000  174419.000000   235.000000     4.500000\n"
     ]
    }
   ],
   "source": [
    "print(df.describe())"
   ]
  },
  {
   "cell_type": "markdown",
   "id": "e2711e37",
   "metadata": {},
   "source": [
    "### Checking missing values"
   ]
  },
  {
   "cell_type": "code",
   "execution_count": 144,
   "id": "895329ba",
   "metadata": {},
   "outputs": [
    {
     "name": "stdout",
     "output_type": "stream",
     "text": [
      "[' GT86' ' Corolla' ' RAV4' ' Yaris' ' Auris' ' Aygo' ' C-HR' ' Prius'\n",
      " ' Avensis' ' Verso' ' Hilux' ' PROACE VERSO' ' Land Cruiser' ' Supra'\n",
      " ' Camry' ' Verso-S' ' IQ' ' Urban Cruiser']\n"
     ]
    }
   ],
   "source": [
    "print(df['model'].unique())"
   ]
  },
  {
   "cell_type": "code",
   "execution_count": 145,
   "id": "094f7017",
   "metadata": {},
   "outputs": [
    {
     "name": "stdout",
     "output_type": "stream",
     "text": [
      "['Manual' 'Automatic' 'Semi-Auto' 'Other']\n"
     ]
    }
   ],
   "source": [
    "print(df['transmission'].unique())"
   ]
  },
  {
   "cell_type": "code",
   "execution_count": 146,
   "id": "504370f2",
   "metadata": {},
   "outputs": [
    {
     "name": "stdout",
     "output_type": "stream",
     "text": [
      "['Petrol' 'Other' 'Hybrid' 'Diesel']\n"
     ]
    }
   ],
   "source": [
    "print(df['fuelType'].unique())"
   ]
  },
  {
   "cell_type": "markdown",
   "id": "d714bbfd",
   "metadata": {},
   "source": [
    "### Exploratory Data Analysis (EDA) using groupby"
   ]
  },
  {
   "cell_type": "code",
   "execution_count": 147,
   "id": "99c2a6be",
   "metadata": {},
   "outputs": [
    {
     "data": {
      "text/html": [
       "<div>\n",
       "<style scoped>\n",
       "    .dataframe tbody tr th:only-of-type {\n",
       "        vertical-align: middle;\n",
       "    }\n",
       "\n",
       "    .dataframe tbody tr th {\n",
       "        vertical-align: top;\n",
       "    }\n",
       "\n",
       "    .dataframe thead th {\n",
       "        text-align: right;\n",
       "    }\n",
       "</style>\n",
       "<table border=\"1\" class=\"dataframe\">\n",
       "  <thead>\n",
       "    <tr style=\"text-align: right;\">\n",
       "      <th></th>\n",
       "      <th>count</th>\n",
       "      <th>mean</th>\n",
       "      <th>sum</th>\n",
       "    </tr>\n",
       "    <tr>\n",
       "      <th>model</th>\n",
       "      <th></th>\n",
       "      <th></th>\n",
       "      <th></th>\n",
       "    </tr>\n",
       "  </thead>\n",
       "  <tbody>\n",
       "    <tr>\n",
       "      <th>Auris</th>\n",
       "      <td>712</td>\n",
       "      <td>12507.911517</td>\n",
       "      <td>8905633</td>\n",
       "    </tr>\n",
       "    <tr>\n",
       "      <th>Avensis</th>\n",
       "      <td>115</td>\n",
       "      <td>9884.356522</td>\n",
       "      <td>1136701</td>\n",
       "    </tr>\n",
       "    <tr>\n",
       "      <th>Aygo</th>\n",
       "      <td>1961</td>\n",
       "      <td>7905.414584</td>\n",
       "      <td>15502518</td>\n",
       "    </tr>\n",
       "    <tr>\n",
       "      <th>C-HR</th>\n",
       "      <td>479</td>\n",
       "      <td>20651.540710</td>\n",
       "      <td>9892088</td>\n",
       "    </tr>\n",
       "    <tr>\n",
       "      <th>Camry</th>\n",
       "      <td>11</td>\n",
       "      <td>26910.090909</td>\n",
       "      <td>296011</td>\n",
       "    </tr>\n",
       "    <tr>\n",
       "      <th>Corolla</th>\n",
       "      <td>267</td>\n",
       "      <td>20942.734082</td>\n",
       "      <td>5591710</td>\n",
       "    </tr>\n",
       "    <tr>\n",
       "      <th>GT86</th>\n",
       "      <td>73</td>\n",
       "      <td>19908.849315</td>\n",
       "      <td>1453346</td>\n",
       "    </tr>\n",
       "    <tr>\n",
       "      <th>Hilux</th>\n",
       "      <td>86</td>\n",
       "      <td>21504.593023</td>\n",
       "      <td>1849395</td>\n",
       "    </tr>\n",
       "    <tr>\n",
       "      <th>IQ</th>\n",
       "      <td>8</td>\n",
       "      <td>4247.250000</td>\n",
       "      <td>33978</td>\n",
       "    </tr>\n",
       "    <tr>\n",
       "      <th>Land Cruiser</th>\n",
       "      <td>51</td>\n",
       "      <td>36487.156863</td>\n",
       "      <td>1860845</td>\n",
       "    </tr>\n",
       "    <tr>\n",
       "      <th>PROACE VERSO</th>\n",
       "      <td>15</td>\n",
       "      <td>28680.200000</td>\n",
       "      <td>430203</td>\n",
       "    </tr>\n",
       "    <tr>\n",
       "      <th>Prius</th>\n",
       "      <td>232</td>\n",
       "      <td>18998.844828</td>\n",
       "      <td>4407732</td>\n",
       "    </tr>\n",
       "    <tr>\n",
       "      <th>RAV4</th>\n",
       "      <td>473</td>\n",
       "      <td>18161.059197</td>\n",
       "      <td>8590181</td>\n",
       "    </tr>\n",
       "    <tr>\n",
       "      <th>Supra</th>\n",
       "      <td>12</td>\n",
       "      <td>50741.000000</td>\n",
       "      <td>608892</td>\n",
       "    </tr>\n",
       "    <tr>\n",
       "      <th>Urban Cruiser</th>\n",
       "      <td>4</td>\n",
       "      <td>4617.500000</td>\n",
       "      <td>18470</td>\n",
       "    </tr>\n",
       "    <tr>\n",
       "      <th>Verso</th>\n",
       "      <td>114</td>\n",
       "      <td>12169.157895</td>\n",
       "      <td>1387284</td>\n",
       "    </tr>\n",
       "    <tr>\n",
       "      <th>Verso-S</th>\n",
       "      <td>3</td>\n",
       "      <td>5746.666667</td>\n",
       "      <td>17240</td>\n",
       "    </tr>\n",
       "    <tr>\n",
       "      <th>Yaris</th>\n",
       "      <td>2122</td>\n",
       "      <td>10553.083883</td>\n",
       "      <td>22393644</td>\n",
       "    </tr>\n",
       "  </tbody>\n",
       "</table>\n",
       "</div>"
      ],
      "text/plain": [
       "                count          mean       sum\n",
       "model                                        \n",
       " Auris            712  12507.911517   8905633\n",
       " Avensis          115   9884.356522   1136701\n",
       " Aygo            1961   7905.414584  15502518\n",
       " C-HR             479  20651.540710   9892088\n",
       " Camry             11  26910.090909    296011\n",
       " Corolla          267  20942.734082   5591710\n",
       " GT86              73  19908.849315   1453346\n",
       " Hilux             86  21504.593023   1849395\n",
       " IQ                 8   4247.250000     33978\n",
       " Land Cruiser      51  36487.156863   1860845\n",
       " PROACE VERSO      15  28680.200000    430203\n",
       " Prius            232  18998.844828   4407732\n",
       " RAV4             473  18161.059197   8590181\n",
       " Supra             12  50741.000000    608892\n",
       " Urban Cruiser      4   4617.500000     18470\n",
       " Verso            114  12169.157895   1387284\n",
       " Verso-S            3   5746.666667     17240\n",
       " Yaris           2122  10553.083883  22393644"
      ]
     },
     "metadata": {},
     "output_type": "display_data"
    }
   ],
   "source": [
    "df_agg1 = df.groupby('model')['price'].agg(['count', 'mean', 'sum'])\n",
    "\n",
    "display(df_agg1)"
   ]
  },
  {
   "cell_type": "code",
   "execution_count": 148,
   "id": "5fb8e5fc",
   "metadata": {},
   "outputs": [
    {
     "data": {
      "text/html": [
       "<div>\n",
       "<style scoped>\n",
       "    .dataframe tbody tr th:only-of-type {\n",
       "        vertical-align: middle;\n",
       "    }\n",
       "\n",
       "    .dataframe tbody tr th {\n",
       "        vertical-align: top;\n",
       "    }\n",
       "\n",
       "    .dataframe thead th {\n",
       "        text-align: right;\n",
       "    }\n",
       "</style>\n",
       "<table border=\"1\" class=\"dataframe\">\n",
       "  <thead>\n",
       "    <tr style=\"text-align: right;\">\n",
       "      <th></th>\n",
       "      <th>count</th>\n",
       "      <th>mean</th>\n",
       "      <th>sum</th>\n",
       "    </tr>\n",
       "    <tr>\n",
       "      <th>transmission</th>\n",
       "      <th></th>\n",
       "      <th></th>\n",
       "      <th></th>\n",
       "    </tr>\n",
       "  </thead>\n",
       "  <tbody>\n",
       "    <tr>\n",
       "      <th>Automatic</th>\n",
       "      <td>2657</td>\n",
       "      <td>16582.828754</td>\n",
       "      <td>44060576</td>\n",
       "    </tr>\n",
       "    <tr>\n",
       "      <th>Manual</th>\n",
       "      <td>3826</td>\n",
       "      <td>9551.496864</td>\n",
       "      <td>36544027</td>\n",
       "    </tr>\n",
       "    <tr>\n",
       "      <th>Other</th>\n",
       "      <td>1</td>\n",
       "      <td>12795.000000</td>\n",
       "      <td>12795</td>\n",
       "    </tr>\n",
       "    <tr>\n",
       "      <th>Semi-Auto</th>\n",
       "      <td>254</td>\n",
       "      <td>14797.137795</td>\n",
       "      <td>3758473</td>\n",
       "    </tr>\n",
       "  </tbody>\n",
       "</table>\n",
       "</div>"
      ],
      "text/plain": [
       "              count          mean       sum\n",
       "transmission                               \n",
       "Automatic      2657  16582.828754  44060576\n",
       "Manual         3826   9551.496864  36544027\n",
       "Other             1  12795.000000     12795\n",
       "Semi-Auto       254  14797.137795   3758473"
      ]
     },
     "metadata": {},
     "output_type": "display_data"
    }
   ],
   "source": [
    "df_agg2 = df.groupby('transmission')['price'].agg(['count', 'mean', 'sum'])\n",
    "\n",
    "display(df_agg2)"
   ]
  },
  {
   "cell_type": "code",
   "execution_count": 149,
   "id": "3fe414a4",
   "metadata": {},
   "outputs": [
    {
     "data": {
      "text/html": [
       "<div>\n",
       "<style scoped>\n",
       "    .dataframe tbody tr th:only-of-type {\n",
       "        vertical-align: middle;\n",
       "    }\n",
       "\n",
       "    .dataframe tbody tr th {\n",
       "        vertical-align: top;\n",
       "    }\n",
       "\n",
       "    .dataframe thead th {\n",
       "        text-align: right;\n",
       "    }\n",
       "</style>\n",
       "<table border=\"1\" class=\"dataframe\">\n",
       "  <thead>\n",
       "    <tr style=\"text-align: right;\">\n",
       "      <th></th>\n",
       "      <th>count</th>\n",
       "      <th>mean</th>\n",
       "      <th>sum</th>\n",
       "    </tr>\n",
       "    <tr>\n",
       "      <th>fuelType</th>\n",
       "      <th></th>\n",
       "      <th></th>\n",
       "      <th></th>\n",
       "    </tr>\n",
       "  </thead>\n",
       "  <tbody>\n",
       "    <tr>\n",
       "      <th>Diesel</th>\n",
       "      <td>503</td>\n",
       "      <td>15697.807157</td>\n",
       "      <td>7895997</td>\n",
       "    </tr>\n",
       "    <tr>\n",
       "      <th>Hybrid</th>\n",
       "      <td>2043</td>\n",
       "      <td>17185.472834</td>\n",
       "      <td>35109921</td>\n",
       "    </tr>\n",
       "    <tr>\n",
       "      <th>Other</th>\n",
       "      <td>105</td>\n",
       "      <td>14121.161905</td>\n",
       "      <td>1482722</td>\n",
       "    </tr>\n",
       "    <tr>\n",
       "      <th>Petrol</th>\n",
       "      <td>4087</td>\n",
       "      <td>9759.537803</td>\n",
       "      <td>39887231</td>\n",
       "    </tr>\n",
       "  </tbody>\n",
       "</table>\n",
       "</div>"
      ],
      "text/plain": [
       "          count          mean       sum\n",
       "fuelType                               \n",
       "Diesel      503  15697.807157   7895997\n",
       "Hybrid     2043  17185.472834  35109921\n",
       "Other       105  14121.161905   1482722\n",
       "Petrol     4087   9759.537803  39887231"
      ]
     },
     "metadata": {},
     "output_type": "display_data"
    }
   ],
   "source": [
    "df_agg3 = df.groupby('fuelType')['price'].agg(['count', 'mean', 'sum'])\n",
    "\n",
    "display(df_agg3)"
   ]
  },
  {
   "cell_type": "markdown",
   "id": "fd65d77e",
   "metadata": {},
   "source": [
    "### Data Visualization"
   ]
  },
  {
   "cell_type": "code",
   "execution_count": 150,
   "id": "17a7cbf7",
   "metadata": {},
   "outputs": [
    {
     "data": {
      "text/html": [
       "<div>\n",
       "<style scoped>\n",
       "    .dataframe tbody tr th:only-of-type {\n",
       "        vertical-align: middle;\n",
       "    }\n",
       "\n",
       "    .dataframe tbody tr th {\n",
       "        vertical-align: top;\n",
       "    }\n",
       "\n",
       "    .dataframe thead th {\n",
       "        text-align: right;\n",
       "    }\n",
       "</style>\n",
       "<table border=\"1\" class=\"dataframe\">\n",
       "  <thead>\n",
       "    <tr style=\"text-align: right;\">\n",
       "      <th></th>\n",
       "      <th>mean</th>\n",
       "      <th>sum</th>\n",
       "      <th>percent_of_cars</th>\n",
       "    </tr>\n",
       "    <tr>\n",
       "      <th>model</th>\n",
       "      <th></th>\n",
       "      <th></th>\n",
       "      <th></th>\n",
       "    </tr>\n",
       "  </thead>\n",
       "  <tbody>\n",
       "    <tr>\n",
       "      <th>Yaris</th>\n",
       "      <td>10553.08</td>\n",
       "      <td>22.39</td>\n",
       "      <td>31.49</td>\n",
       "    </tr>\n",
       "    <tr>\n",
       "      <th>Aygo</th>\n",
       "      <td>7905.41</td>\n",
       "      <td>15.50</td>\n",
       "      <td>29.10</td>\n",
       "    </tr>\n",
       "    <tr>\n",
       "      <th>Auris</th>\n",
       "      <td>12507.91</td>\n",
       "      <td>8.91</td>\n",
       "      <td>10.57</td>\n",
       "    </tr>\n",
       "    <tr>\n",
       "      <th>C-HR</th>\n",
       "      <td>20651.54</td>\n",
       "      <td>9.89</td>\n",
       "      <td>7.11</td>\n",
       "    </tr>\n",
       "    <tr>\n",
       "      <th>RAV4</th>\n",
       "      <td>18161.06</td>\n",
       "      <td>8.59</td>\n",
       "      <td>7.02</td>\n",
       "    </tr>\n",
       "  </tbody>\n",
       "</table>\n",
       "</div>"
      ],
      "text/plain": [
       "            mean    sum  percent_of_cars\n",
       "model                                   \n",
       " Yaris  10553.08  22.39            31.49\n",
       " Aygo    7905.41  15.50            29.10\n",
       " Auris  12507.91   8.91            10.57\n",
       " C-HR   20651.54   9.89             7.11\n",
       " RAV4   18161.06   8.59             7.02"
      ]
     },
     "metadata": {},
     "output_type": "display_data"
    }
   ],
   "source": [
    "#Preparing dataframe w.r.to model\n",
    "\n",
    "# sort the dataframe based on the column 'count'\n",
    "df_agg1 = df_agg1.sort_values(by='count', ascending=False)\n",
    "\n",
    "# create a new column percentage of the cars in each model\n",
    "df_agg1['percent_of_cars'] = (df_agg1['count']/df_agg1['count'].sum())*100\n",
    "\n",
    "# convert the 'sum' column in millions\n",
    "df_agg1['sum'] = df_agg1['sum']/1000000\n",
    "\n",
    "# keep up to two decimal points\n",
    "df_agg1 = df_agg1.round(2)\n",
    "\n",
    "# remove the 'count' column\n",
    "df_agg1 = df_agg1.drop('count', axis=1)\n",
    "\n",
    "display(df_agg1.head())"
   ]
  },
  {
   "cell_type": "code",
   "execution_count": 151,
   "id": "1c08ec46",
   "metadata": {},
   "outputs": [
    {
     "data": {
      "text/html": [
       "<div>\n",
       "<style scoped>\n",
       "    .dataframe tbody tr th:only-of-type {\n",
       "        vertical-align: middle;\n",
       "    }\n",
       "\n",
       "    .dataframe tbody tr th {\n",
       "        vertical-align: top;\n",
       "    }\n",
       "\n",
       "    .dataframe thead th {\n",
       "        text-align: right;\n",
       "    }\n",
       "</style>\n",
       "<table border=\"1\" class=\"dataframe\">\n",
       "  <thead>\n",
       "    <tr style=\"text-align: right;\">\n",
       "      <th></th>\n",
       "      <th>mean</th>\n",
       "      <th>sum</th>\n",
       "      <th>percent_of_cars</th>\n",
       "    </tr>\n",
       "    <tr>\n",
       "      <th>transmission</th>\n",
       "      <th></th>\n",
       "      <th></th>\n",
       "      <th></th>\n",
       "    </tr>\n",
       "  </thead>\n",
       "  <tbody>\n",
       "    <tr>\n",
       "      <th>Manual</th>\n",
       "      <td>9551.50</td>\n",
       "      <td>36.54</td>\n",
       "      <td>56.78</td>\n",
       "    </tr>\n",
       "    <tr>\n",
       "      <th>Automatic</th>\n",
       "      <td>16582.83</td>\n",
       "      <td>44.06</td>\n",
       "      <td>39.43</td>\n",
       "    </tr>\n",
       "    <tr>\n",
       "      <th>Semi-Auto</th>\n",
       "      <td>14797.14</td>\n",
       "      <td>3.76</td>\n",
       "      <td>3.77</td>\n",
       "    </tr>\n",
       "    <tr>\n",
       "      <th>Other</th>\n",
       "      <td>12795.00</td>\n",
       "      <td>0.01</td>\n",
       "      <td>0.01</td>\n",
       "    </tr>\n",
       "  </tbody>\n",
       "</table>\n",
       "</div>"
      ],
      "text/plain": [
       "                  mean    sum  percent_of_cars\n",
       "transmission                                  \n",
       "Manual         9551.50  36.54            56.78\n",
       "Automatic     16582.83  44.06            39.43\n",
       "Semi-Auto     14797.14   3.76             3.77\n",
       "Other         12795.00   0.01             0.01"
      ]
     },
     "metadata": {},
     "output_type": "display_data"
    }
   ],
   "source": [
    "#Preparing dataframe w.r.to transmission\n",
    "\n",
    "# sort the dataframe based on the column 'count'\n",
    "df_agg2 = df_agg2.sort_values(by='count', ascending=False)\n",
    "\n",
    "# create a new column percentage of the cars in each model\n",
    "df_agg2['percent_of_cars'] = (df_agg2['count']/df_agg2['count'].sum())*100\n",
    "\n",
    "# convert the 'sum' column in millions\n",
    "df_agg2['sum'] = df_agg2['sum']/1000000\n",
    "\n",
    "# keep up to two decimal points\n",
    "df_agg2 = df_agg2.round(2)\n",
    "\n",
    "# remove the 'count' column\n",
    "df_agg2 = df_agg2.drop('count', axis=1)\n",
    "\n",
    "display(df_agg2.head())"
   ]
  },
  {
   "cell_type": "code",
   "execution_count": 152,
   "id": "2322de49",
   "metadata": {},
   "outputs": [
    {
     "data": {
      "text/html": [
       "<div>\n",
       "<style scoped>\n",
       "    .dataframe tbody tr th:only-of-type {\n",
       "        vertical-align: middle;\n",
       "    }\n",
       "\n",
       "    .dataframe tbody tr th {\n",
       "        vertical-align: top;\n",
       "    }\n",
       "\n",
       "    .dataframe thead th {\n",
       "        text-align: right;\n",
       "    }\n",
       "</style>\n",
       "<table border=\"1\" class=\"dataframe\">\n",
       "  <thead>\n",
       "    <tr style=\"text-align: right;\">\n",
       "      <th></th>\n",
       "      <th>mean</th>\n",
       "      <th>sum</th>\n",
       "      <th>percent_of_cars</th>\n",
       "    </tr>\n",
       "    <tr>\n",
       "      <th>fuelType</th>\n",
       "      <th></th>\n",
       "      <th></th>\n",
       "      <th></th>\n",
       "    </tr>\n",
       "  </thead>\n",
       "  <tbody>\n",
       "    <tr>\n",
       "      <th>Petrol</th>\n",
       "      <td>9759.54</td>\n",
       "      <td>39.89</td>\n",
       "      <td>60.66</td>\n",
       "    </tr>\n",
       "    <tr>\n",
       "      <th>Hybrid</th>\n",
       "      <td>17185.47</td>\n",
       "      <td>35.11</td>\n",
       "      <td>30.32</td>\n",
       "    </tr>\n",
       "    <tr>\n",
       "      <th>Diesel</th>\n",
       "      <td>15697.81</td>\n",
       "      <td>7.90</td>\n",
       "      <td>7.47</td>\n",
       "    </tr>\n",
       "    <tr>\n",
       "      <th>Other</th>\n",
       "      <td>14121.16</td>\n",
       "      <td>1.48</td>\n",
       "      <td>1.56</td>\n",
       "    </tr>\n",
       "  </tbody>\n",
       "</table>\n",
       "</div>"
      ],
      "text/plain": [
       "              mean    sum  percent_of_cars\n",
       "fuelType                                  \n",
       "Petrol     9759.54  39.89            60.66\n",
       "Hybrid    17185.47  35.11            30.32\n",
       "Diesel    15697.81   7.90             7.47\n",
       "Other     14121.16   1.48             1.56"
      ]
     },
     "metadata": {},
     "output_type": "display_data"
    }
   ],
   "source": [
    "#Preparing dataframe w.r.to fuelType\n",
    "\n",
    "# sort the dataframe based on the column 'count'\n",
    "df_agg3 = df_agg3.sort_values(by='count', ascending=False)\n",
    "\n",
    "# create a new column percentage of the cars in each model\n",
    "df_agg3['percent_of_cars'] = (df_agg3['count']/df_agg3['count'].sum())*100\n",
    "\n",
    "# convert the 'sum' column in millions\n",
    "df_agg3['sum'] = df_agg3['sum']/1000000\n",
    "\n",
    "# keep up to two decimal points\n",
    "df_agg3 = df_agg3.round(2)\n",
    "\n",
    "# remove the 'count' column\n",
    "df_agg3 = df_agg3.drop('count', axis=1)\n",
    "\n",
    "display(df_agg3.head())"
   ]
  },
  {
   "cell_type": "markdown",
   "id": "9b692889",
   "metadata": {},
   "source": [
    "### Plotting Barplot"
   ]
  },
  {
   "cell_type": "code",
   "execution_count": 153,
   "id": "879bc18b",
   "metadata": {},
   "outputs": [
    {
     "data": {
      "image/png": "[encoded data removed]",
      "text/plain": [
       "<Figure size 1440x720 with 3 Axes>"
      ]
     },
     "metadata": {
      "needs_background": "light"
     },
     "output_type": "display_data"
    }
   ],
   "source": [
    "plt.figure(figsize=(20,10))\n",
    "\n",
    "plt.subplot(1, 3, 1)\n",
    "sns.barplot(x='percent_of_cars', y=df_agg1.index, data=df_agg1, orient='h', color='blue')\n",
    "plt.title(\"Percentage of cars in each model\")\n",
    "plt.xlabel(\"Percentage of cars (%)\")\n",
    "\n",
    "plt.subplot(1, 3, 2)\n",
    "sns.barplot(x='mean', y=df_agg1.index, data=df_agg1, orient='h', color='green')\n",
    "plt.title(\"Average resale value of the cars of each model\")\n",
    "plt.xlabel(\"Average price ($)\")\n",
    "plt.ylabel(\"\")\n",
    "\n",
    "plt.subplot(1, 3, 3)\n",
    "sns.barplot(x='sum', y=df_agg1.index, data=df_agg1, orient='h', color='red')\n",
    "plt.title(\"Total sale of the cars by each model\")\n",
    "plt.xlabel(\"Total price in million $\")\n",
    "plt.ylabel(\"\")\n",
    "\n",
    "plt.suptitle(\"Barplot of the Toyota used car w.r.to model\")\n",
    "plt.tight_layout()\n",
    "plt.show()"
   ]
  },
  {
   "cell_type": "code",
   "execution_count": 154,
   "id": "17520e67",
   "metadata": {},
   "outputs": [
    {
     "data": {
      "image/png": "[encoded data removed]",
      "text/plain": [
       "<Figure size 1584x360 with 3 Axes>"
      ]
     },
     "metadata": {
      "needs_background": "light"
     },
     "output_type": "display_data"
    }
   ],
   "source": [
    "plt.figure(figsize=(22,5))\n",
    "\n",
    "plt.subplot(1, 3, 1)\n",
    "sns.barplot(x='percent_of_cars', y=df_agg2.index, data=df_agg2, orient='h', color='blue')\n",
    "plt.title(\"Percentage of cars in each transmission\")\n",
    "plt.xlabel(\"Percentage of cars (%)\")\n",
    "\n",
    "plt.subplot(1, 3, 2)\n",
    "sns.barplot(x='mean', y=df_agg2.index, data=df_agg2, orient='h', color='green')\n",
    "plt.title(\"Average resale value of the cars of each transmission\")\n",
    "plt.xlabel(\"Average price ($)\")\n",
    "plt.ylabel(\"\")\n",
    "\n",
    "plt.subplot(1, 3, 3)\n",
    "sns.barplot(x='sum', y=df_agg2.index, data=df_agg2, orient='h', color='red')\n",
    "plt.title(\"Total sale of the cars by each transmission\")\n",
    "plt.xlabel(\"Total price in million $\")\n",
    "plt.ylabel(\"\")\n",
    "\n",
    "plt.suptitle(\"Barplot of the Toyota used car w.r.to trasnmission\")\n",
    "plt.tight_layout()\n",
    "plt.show()"
   ]
  },
  {
   "cell_type": "code",
   "execution_count": 156,
   "id": "73a3f8ea",
   "metadata": {},
   "outputs": [
    {
     "data": {
      "image/png": "[encoded data removed]",
      "text/plain": [
       "<Figure size 1440x360 with 3 Axes>"
      ]
     },
     "metadata": {
      "needs_background": "light"
     },
     "output_type": "display_data"
    }
   ],
   "source": [
    "plt.figure(figsize=(20,5))\n",
    "\n",
    "plt.subplot(1, 3, 1)\n",
    "sns.barplot(x='percent_of_cars', y=df_agg3.index, data=df_agg3, orient='h', color='blue')\n",
    "plt.title(\"Percentage of cars in each fuelType\")\n",
    "plt.xlabel(\"Percentage of cars (%)\")\n",
    "\n",
    "plt.subplot(1, 3, 2)\n",
    "sns.barplot(x='mean', y=df_agg3.index, data=df_agg3, orient='h', color='green')\n",
    "plt.title(\"Average resale value of the cars of each fuelType\")\n",
    "plt.xlabel(\"Average price ($)\")\n",
    "plt.ylabel(\"\")\n",
    "\n",
    "plt.subplot(1, 3, 3)\n",
    "sns.barplot(x='sum', y=df_agg3.index, data=df_agg3, orient='h', color='red')\n",
    "plt.title(\"Total sale of the cars by each fuelType\")\n",
    "plt.xlabel(\"Total price in million $\")\n",
    "plt.ylabel(\"\")\n",
    "\n",
    "\n",
    "plt.suptitle(\"Barplot of the Toyota used car w.r.to fuel type\")\n",
    "plt.tight_layout()\n",
    "plt.show()"
   ]
  }
 ],
 "metadata": {
  "kernelspec": {
   "display_name": "Python 3 (ipykernel)",
   "language": "python",
   "name": "python3"
  },
  "language_info": {
   "codemirror_mode": {
    "name": "ipython",
    "version": 3
   },
   "file_extension": ".py",
   "mimetype": "text/x-python",
   "name": "python",
   "nbconvert_exporter": "python",
   "pygments_lexer": "ipython3",
   "version": "3.7.2"
  }
 },
 "nbformat": 4,
 "nbformat_minor": 5
}
